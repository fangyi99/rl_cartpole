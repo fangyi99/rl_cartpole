{
  "cells": [
    {
      "cell_type": "markdown",
      "metadata": {
        "id": "view-in-github",
        "colab_type": "text"
      },
      "source": [
        "<a href=\"https://colab.research.google.com/github/fangyi99/rl_cartpole/blob/main/whales.ipynb\" target=\"_parent\"><img src=\"https://colab.research.google.com/assets/colab-badge.svg\" alt=\"Open In Colab\"/></a>"
      ]
    },
    {
      "cell_type": "markdown",
      "id": "83fd3d68-c600-49f4-bccb-6f62d3a02486",
      "metadata": {
        "id": "83fd3d68-c600-49f4-bccb-6f62d3a02486"
      },
      "source": [
        "# SC3000 Assignment 1 - Balancing a Pole on a Cart"
      ]
    },
    {
      "cell_type": "markdown",
      "source": [
        "Done By: Looi Fang Yi (U2323220A)"
      ],
      "metadata": {
        "id": "ly03tQ7JBZIR"
      },
      "id": "ly03tQ7JBZIR"
    },
    {
      "cell_type": "markdown",
      "id": "e2da996f-56be-4341-a406-1c444ccab471",
      "metadata": {
        "id": "e2da996f-56be-4341-a406-1c444ccab471"
      },
      "source": [
        "## Introduction"
      ]
    },
    {
      "cell_type": "markdown",
      "id": "b12dafdf-b7b2-4673-b70f-ddd5aec03323",
      "metadata": {
        "id": "b12dafdf-b7b2-4673-b70f-ddd5aec03323"
      },
      "source": [
        "The Cartpole environment is a classic control problem in reinforcement learning (RL) where an agent must balance a pole on a moving cart. The goal is to apply forces to the cart to prevent the pole from falling over, maintaining balance for as long as possible."
      ]
    },
    {
      "cell_type": "markdown",
      "id": "a6157620-977e-4398-910e-1f074fb3a3e0",
      "metadata": {
        "id": "a6157620-977e-4398-910e-1f074fb3a3e0"
      },
      "source": [
        "## Solutions"
      ]
    },
    {
      "cell_type": "markdown",
      "id": "0a49e012-0fa0-4bab-9bbc-5174d6111fef",
      "metadata": {
        "id": "0a49e012-0fa0-4bab-9bbc-5174d6111fef"
      },
      "source": [
        "3 model-free reinforcement learning algorithms were covered in lectures:\n",
        "1. Monte Carlo - relies on sampling by averaging returns from complete episodes\n",
        "2. Q-learning - uses bootstraping to update value estimates incrementally\n",
        "3. Deep Q-learning - extends Q-learning with function approximation using neural networks"
      ]
    },
    {
      "cell_type": "markdown",
      "id": "3d1a6924-6f72-4a4f-940d-0a435a98c8c9",
      "metadata": {
        "id": "3d1a6924-6f72-4a4f-940d-0a435a98c8c9"
      },
      "source": [
        "In this project, I aim to explore 2 different reinforcement learning strategies - Q-learning & Monte Carlo - to analyse their effectiveness in solving the Cartpole problem.\n",
        "\n",
        "To assess their performance, I will compare these 2 agents against a random policy agent as a baseline. The evaluation will focus on their average cumulative reward over 100 episodes. Since the Cartpole environment is considered solved when an agent consistently achives an average reward of at least 195, this threshold will be used as a measure of success."
      ]
    },
    {
      "cell_type": "markdown",
      "source": [
        "## Installing Dependencies"
      ],
      "metadata": {
        "id": "khIk3Q3QgNZD"
      },
      "id": "khIk3Q3QgNZD"
    },
    {
      "cell_type": "code",
      "source": [
        "!apt-get install -y xvfb python-opengl ffmpeg > /dev/null 2>&1\n",
        "!pip install --upgrade setuptools > /dev/null 2>&1\n",
        "!pip install gymnasium[box2d] moviepy pyvirtualdisplay > /dev/null 2>&1\n",
        "!apt-get install cmake > /dev/null 2>&1"
      ],
      "metadata": {
        "id": "Us_XrYNHc8ef"
      },
      "id": "Us_XrYNHc8ef",
      "execution_count": null,
      "outputs": []
    },
    {
      "cell_type": "markdown",
      "id": "48131253-a2a6-4fab-a1de-99dcf1f281f7",
      "metadata": {
        "id": "48131253-a2a6-4fab-a1de-99dcf1f281f7"
      },
      "source": [
        "## Import Dependencies"
      ]
    },
    {
      "cell_type": "code",
      "execution_count": null,
      "id": "517333c5-4c90-4fa3-acee-c2ceb46d11a6",
      "metadata": {
        "id": "517333c5-4c90-4fa3-acee-c2ceb46d11a6"
      },
      "outputs": [],
      "source": [
        "import gymnasium as gym\n",
        "import numpy as np\n",
        "import random\n",
        "import matplotlib.pyplot as plt\n",
        "from collections import defaultdict\n",
        "import time\n",
        "\n",
        "import glob\n",
        "import io\n",
        "import base64\n",
        "from IPython.display import HTML, display\n",
        "from gymnasium.wrappers import RecordVideo\n",
        "\n",
        "import torch\n",
        "import torch.nn as nn\n",
        "import torch.nn.functional as F\n",
        "import torch.optim as optim\n",
        "from torch.distributions import Categorical\n",
        "from collections import deque"
      ]
    },
    {
      "cell_type": "markdown",
      "id": "17d9ca2f-cb92-4923-8d1b-98c994517e35",
      "metadata": {
        "id": "17d9ca2f-cb92-4923-8d1b-98c994517e35"
      },
      "source": [
        "## Set up Environment"
      ]
    },
    {
      "cell_type": "code",
      "execution_count": null,
      "id": "594241c6-4bab-4023-a9c2-b516502c8e40",
      "metadata": {
        "id": "594241c6-4bab-4023-a9c2-b516502c8e40"
      },
      "outputs": [],
      "source": [
        "env = gym.make(\"CartPole-v1\")"
      ]
    },
    {
      "cell_type": "markdown",
      "id": "4c96e4e9-8145-41c5-acc9-fd89aed54be3",
      "metadata": {
        "id": "4c96e4e9-8145-41c5-acc9-fd89aed54be3"
      },
      "source": [
        "## Training Parameters"
      ]
    },
    {
      "cell_type": "code",
      "execution_count": null,
      "id": "f14c25b7-c738-4f33-8585-4ac091db00dd",
      "metadata": {
        "id": "f14c25b7-c738-4f33-8585-4ac091db00dd"
      },
      "outputs": [],
      "source": [
        "alpha = 0.1 # step size\n",
        "gamma = 0.99 # discount rate\n",
        "epsilon = 1 # probability of choosing exploration over best estimated action\n",
        "train_episodes = 1000\n",
        "test_episodes = 100\n",
        "steps = 200 # total number of simulation steps\n",
        "state_space = 4 # no. of dimensions in the state\n",
        "action_space = 2 # no. of distinct actions agent can take\n",
        "\n",
        "# neural network variables\n",
        "h_size = 64 # hidden layer size for neural network\n",
        "lr = 0.001\n",
        "\n",
        "#state discretization variables\n",
        "upper_bounds = env.observation_space.high\n",
        "lower_bounds = env.observation_space.low\n",
        "cart_velocity_min = -3\n",
        "cart_velocity_max = 3\n",
        "pole_angle_velocity_min = -10\n",
        "pole_angle_velocity_max = 10\n",
        "lower_bounds[1] = cart_velocity_min\n",
        "upper_bounds[1] = cart_velocity_max\n",
        "lower_bounds[3] = pole_angle_velocity_min\n",
        "upper_bounds[3] = pole_angle_velocity_max\n",
        "\n",
        "bins_position = 40\n",
        "bins_velocity = 40\n",
        "bins_angle = 40\n",
        "bins_angle_velocity = 40\n",
        "\n",
        "bins = [bins_position, bins_velocity, bins_angle, bins_angle_velocity]"
      ]
    },
    {
      "cell_type": "markdown",
      "id": "6136a7b3-427e-4dfe-99c5-6fa3c960d5d9",
      "metadata": {
        "id": "6136a7b3-427e-4dfe-99c5-6fa3c960d5d9"
      },
      "source": [
        "## Helper Functions"
      ]
    },
    {
      "cell_type": "markdown",
      "id": "8fc6a50e-49f0-4806-9b65-88c9ef7167c1",
      "metadata": {
        "id": "8fc6a50e-49f0-4806-9b65-88c9ef7167c1"
      },
      "source": [
        "This function will be used to plot the cumulative reward of each agent for every round."
      ]
    },
    {
      "cell_type": "code",
      "execution_count": null,
      "id": "f3dc175e-f1c1-4f17-a8ae-f401ae085af6",
      "metadata": {
        "id": "f3dc175e-f1c1-4f17-a8ae-f401ae085af6"
      },
      "outputs": [],
      "source": [
        "def plot_graph(rewards, title=\"Agent Performance\"):\n",
        "    plt.plot(rewards)\n",
        "    plt.title(title)\n",
        "    plt.xlabel('Episodes')\n",
        "    plt.ylabel('Cumulative reward')\n",
        "    plt.show()"
      ]
    },
    {
      "cell_type": "markdown",
      "source": [
        "This function will be used to render one episode played by a developed RL agent."
      ],
      "metadata": {
        "id": "8mfc5Pkljp43"
      },
      "id": "8mfc5Pkljp43"
    },
    {
      "cell_type": "code",
      "source": [
        "def show_video():\n",
        "  mp4list = glob.glob('video/*.mp4')\n",
        "  if len(mp4list) > 0:\n",
        "    mp4 = mp4list[0]\n",
        "    video = io.open(mp4, 'r+b').read()\n",
        "    encoded = base64.b64encode(video)\n",
        "    display(HTML(f'''\n",
        "            <video alt=\"test\" autoplay loop controls style=\"height: 400px;\">\n",
        "                <source src=\"data:video/mp4;base64,{encoded.decode('ascii')}\" type=\"video/mp4\" />\n",
        "            </video>\n",
        "        '''))\n",
        "  else:\n",
        "    print(\"Could not find video\")"
      ],
      "metadata": {
        "id": "AOzC2NDijnbe"
      },
      "id": "AOzC2NDijnbe",
      "execution_count": null,
      "outputs": []
    },
    {
      "cell_type": "markdown",
      "id": "ffa56f7c-20cc-4bf5-98ce-c3b57cda8c03",
      "metadata": {
        "id": "ffa56f7c-20cc-4bf5-98ce-c3b57cda8c03"
      },
      "source": [
        "## Random Policy Agent"
      ]
    },
    {
      "cell_type": "markdown",
      "id": "7282e3fb-81c9-4e17-a5e0-e0845317df1f",
      "metadata": {
        "id": "7282e3fb-81c9-4e17-a5e0-e0845317df1f"
      },
      "source": [
        "An example of a naive agent which randomly chooses an action regardless of the observation."
      ]
    },
    {
      "cell_type": "code",
      "execution_count": null,
      "id": "dfcdf6a5-6a53-4287-a386-f7daf5b1520a",
      "metadata": {
        "id": "dfcdf6a5-6a53-4287-a386-f7daf5b1520a"
      },
      "outputs": [],
      "source": [
        "class random_policy_agent:\n",
        "    def __init__(self, env):\n",
        "        self.env = env\n",
        "        self.action_space = env.action_space.n\n",
        "\n",
        "    def select_action(self, observation):\n",
        "        return self.env.action_space.sample()\n",
        "\n",
        "    def evaluate_agent(self, episodes):\n",
        "        rewards_per_episode = []\n",
        "\n",
        "        for episode in range(episodes):\n",
        "            observation = self.env.reset()[0]  # reset environment at the start of each episode\n",
        "            done = False\n",
        "            episode_rewards = 0\n",
        "\n",
        "            while not done:\n",
        "                action = self.select_action(observation) # choose action\n",
        "                next_observation, reward, done, _, _ = self.env.step(action) # step in the environment\n",
        "                episode_rewards += reward # store reward for current step\n",
        "                observation = next_observation # move to next state\n",
        "\n",
        "            rewards_per_episode.append(episode_rewards) # store cumulative reward for current episode\n",
        "\n",
        "        return rewards_per_episode"
      ]
    },
    {
      "cell_type": "markdown",
      "id": "da1e217d-6e1c-4c54-a024-a4116e046ad1",
      "metadata": {
        "id": "da1e217d-6e1c-4c54-a024-a4116e046ad1"
      },
      "source": [
        "We call each round of the pole-balancing game an \"episode\". At the start of each episode, the environment is reset, which chooses a random initial state. The observation space is given below. The array defines the min and max values of the 4 observed values, corresponding to cart position, velocity, pole angle and angular velocity."
      ]
    },
    {
      "cell_type": "code",
      "execution_count": null,
      "id": "6c3f9b17-5af8-4885-9698-fe5cc58b9781",
      "metadata": {
        "colab": {
          "base_uri": "https://localhost:8080/"
        },
        "id": "6c3f9b17-5af8-4885-9698-fe5cc58b9781",
        "outputId": "59b81dc7-b8b8-45d0-fc66-30cc6d7e54f9"
      },
      "outputs": [
        {
          "output_type": "stream",
          "name": "stdout",
          "text": [
            "Observation: [-0.03324017  0.03146158  0.00786168  0.02058568]\n"
          ]
        }
      ],
      "source": [
        "# initialise agent\n",
        "rand_agent_0 = random_policy_agent(env)\n",
        "\n",
        "# get random initial state\n",
        "observation, info = env.reset()\n",
        "print(\"Observation:\", observation)"
      ]
    },
    {
      "cell_type": "markdown",
      "id": "2398f252-4bb0-401c-9804-0146d48255bc",
      "metadata": {
        "id": "2398f252-4bb0-401c-9804-0146d48255bc"
      },
      "source": [
        "For the CartPole environment, there are two possible actions: 0 for pushing to the left and 1 for pushing to the right.\n",
        "In this case, the action taken by the random policy agent is randomised."
      ]
    },
    {
      "cell_type": "code",
      "execution_count": null,
      "id": "45b128c0-2c6d-4da2-9905-2a448ff1f03b",
      "metadata": {
        "colab": {
          "base_uri": "https://localhost:8080/"
        },
        "id": "45b128c0-2c6d-4da2-9905-2a448ff1f03b",
        "outputId": "6a6d0e99-1a7d-425a-cf98-127054085cae"
      },
      "outputs": [
        {
          "output_type": "stream",
          "name": "stdout",
          "text": [
            "Chosen action: 0\n"
          ]
        }
      ],
      "source": [
        "# get chosen action\n",
        "action = rand_agent_0.select_action(observation)\n",
        "print(\"Chosen action:\", action)"
      ]
    },
    {
      "cell_type": "markdown",
      "id": "913893f6-06cc-40b0-b823-a4c389203f6e",
      "metadata": {
        "id": "913893f6-06cc-40b0-b823-a4c389203f6e"
      },
      "source": [
        "The agent plays the game over 100 episodes and the cumulative reward for each round is recorded and plotted in the graph below."
      ]
    },
    {
      "cell_type": "code",
      "execution_count": null,
      "id": "bd17a7ef-6d0f-4667-b90d-2b9818e61f1b",
      "metadata": {
        "colab": {
          "base_uri": "https://localhost:8080/",
          "height": 524
        },
        "id": "bd17a7ef-6d0f-4667-b90d-2b9818e61f1b",
        "outputId": "78104383-180c-4427-c233-915b2ba3b3fd"
      },
      "outputs": [
        {
          "output_type": "stream",
          "name": "stdout",
          "text": [
            "Evaluation result\n",
            "Average cumulative reward: 23.07\n",
            "Is my agent good enough? False\n"
          ]
        },
        {
          "output_type": "display_data",
          "data": {
            "text/plain": [
              "<Figure size 640x480 with 1 Axes>"
            ],
            "image/png": "[encoded data removed]"
          },
          "metadata": {}
        }
      ],
      "source": [
        "rand_agent = random_policy_agent(env)\n",
        "rand_rewards = rand_agent.evaluate_agent(test_episodes)\n",
        "\n",
        "# results\n",
        "print(\"Evaluation result\")\n",
        "print(\"Average cumulative reward:\", np.mean(rand_rewards))\n",
        "print(\"Is my agent good enough?\", np.mean(rand_rewards) > 195)\n",
        "plot_graph(rand_rewards, title=\"Random Policy Agent Performance\")"
      ]
    },
    {
      "cell_type": "markdown",
      "id": "0458c534-3392-4710-85eb-2ee9ff857be7",
      "metadata": {
        "id": "0458c534-3392-4710-85eb-2ee9ff857be7"
      },
      "source": [
        "Clearly, the naive strategy performs poorly by surviving for only a limited number of time steps per episode, as indicated by the average cumulative reward of 23.07. The random selection of actions without any learning mechanism leads to suboptimal performance."
      ]
    },
    {
      "cell_type": "markdown",
      "source": [
        "## RL Algorithms"
      ],
      "metadata": {
        "id": "hvKq___nbI8L"
      },
      "id": "hvKq___nbI8L"
    },
    {
      "cell_type": "markdown",
      "source": [
        "### Basic Concepts\n",
        "\n",
        "**Value-Based vs Policy-Based**\n",
        "\n",
        "In value-based approaches, the agent learns a value function that estimates the expected future reward for each state-action pair. The agent uses these values to select the best possible action at each state.\n",
        "\n",
        "In policy-based approaches, the agent directly learns a policy, which is a mapping from states to actions. The goal is to improve the policy over time by exploring and evaluating actions based on the rewards it receives from interacting with the environment.\n",
        "\n",
        "**On-Policy vs Off-Policy**\n",
        "\n",
        "In on-policy approaches, the agent learns the value of the policy it is currently following. The agent uses the policy it is exploring to update and improve itself.\n",
        "\n",
        "In off-policy approaches, the agent learns the value of an optimal policy while following a different behavior policy. This allows the agent to explore the environment using one policy while learning and improving another policy.\n",
        "\n",
        "**Training & Testing Phases**\n",
        "\n",
        "Unlike a random policy agent, RL agents learn from interactions with the environment, adjusting their behaviour over time to maximise reward during the training phase. Their performance is then evaluated during the testing phase.\n"
      ],
      "metadata": {
        "id": "_45XxTkJbTLz"
      },
      "id": "_45XxTkJbTLz"
    },
    {
      "cell_type": "markdown",
      "id": "5af8614c-8a02-4ed2-8b2a-db12aebd2f01",
      "metadata": {
        "id": "5af8614c-8a02-4ed2-8b2a-db12aebd2f01"
      },
      "source": [
        "## Q-Learning Agent"
      ]
    },
    {
      "cell_type": "markdown",
      "id": "f2244585-c13c-4cf4-9d58-61be6492fbff",
      "metadata": {
        "id": "f2244585-c13c-4cf4-9d58-61be6492fbff"
      },
      "source": [
        "### Introduction\n",
        "\n",
        "Q-learning follows a value-based approach, where it learns and stores Q-values for state-action pairs, representing the expected future rewards. This allows the agent to estimate and choose actions that maximise cumulative rewards over time.\n",
        "\n",
        "It updates its Q-values based on the best possible action, regardless of the policy the agent is following at the moment. This allows the agent to explore the environment more flexibly by using a different policy while still improving its Q-values.\n",
        "\n",
        "For Q-learning to work effectively, the state space must be discretised. In continuous state spaces, representing all possible states is impractical, so discretisation is necessary to manage Q-values efficiently."
      ]
    },
    {
      "cell_type": "markdown",
      "id": "a82079e1-cc95-4804-b434-22915377845c",
      "metadata": {
        "id": "a82079e1-cc95-4804-b434-22915377845c"
      },
      "source": [
        "### Algorithm\n",
        "\n",
        "<img src=\"https://leimao.github.io/images/blog/2019-03-14-RL-On-Policy-VS-Off-Policy/q-learning.png\" width=\"500\">"
      ]
    },
    {
      "cell_type": "code",
      "source": [
        "class QLearningAgent:\n",
        "    def __init__(self, env, alpha, gamma, epsilon, train_episodes, test_episodes, bins, lower_bounds, upper_bounds):\n",
        "        self.env = env\n",
        "        self.alpha = alpha\n",
        "        self.gamma = gamma\n",
        "        self.epsilon = epsilon\n",
        "        self.train_episodes = train_episodes\n",
        "        self.test_episodes = test_episodes\n",
        "        self.bins = bins\n",
        "        self.lower_bounds = lower_bounds\n",
        "        self.upper_bounds = upper_bounds\n",
        "\n",
        "        self.action_space = env.action_space.n\n",
        "        self.training_rewards = []\n",
        "        self.testing_rewards = []\n",
        "\n",
        "        self.Q_table = np.random.uniform(low=0, high=1, size=(bins[0], bins[1], bins[2], bins[3], self.action_space)) # initialise Q-table with random values\n",
        "\n",
        "    def discretise_state(self, state):\n",
        "        cart_position_bin = np.linspace(self.lower_bounds[0], self.upper_bounds[0], self.bins[0])\n",
        "        cart_velocity_bin = np.linspace(self.lower_bounds[1], self.upper_bounds[1], self.bins[1])\n",
        "        pole_angle_bin = np.linspace(self.lower_bounds[2], self.upper_bounds[2], self.bins[2])\n",
        "        pole_angular_velocity_bin = np.linspace(self.lower_bounds[3], self.upper_bounds[3], self.bins[3])\n",
        "\n",
        "        index_position = np.digitize(state[0], cart_position_bin) - 1\n",
        "        index_velocity = np.digitize(state[1], cart_velocity_bin) - 1\n",
        "        index_angle = np.digitize(state[2], pole_angle_bin) - 1\n",
        "        index_angular_velocity = np.digitize(state[3], pole_angular_velocity_bin) - 1\n",
        "\n",
        "        return tuple([index_position, index_velocity, index_angle, index_angular_velocity])\n",
        "\n",
        "    def select_action(self, state, episode_index):\n",
        "        # explore during early episodes\n",
        "        if episode_index < 500:\n",
        "            return np.random.choice(self.action_space)\n",
        "\n",
        "        # slowly decrease exploration rate in later episodes\n",
        "        if episode_index > 700:\n",
        "            self.epsilon *= 0.999\n",
        "\n",
        "        # explore\n",
        "        if np.random.random() < self.epsilon:\n",
        "            return np.random.choice(self.action_space)\n",
        "        else:\n",
        "            # choose action with highest Q-value\n",
        "            return np.argmax(self.Q_table[self.discretise_state(state)])\n",
        "\n",
        "    def train_agent(self):\n",
        "        for episode in range(self.train_episodes):\n",
        "            state, info = self.env.reset()\n",
        "            state = list(state) # for indexing\n",
        "            total_reward = 0\n",
        "            done = False\n",
        "\n",
        "            while not done:\n",
        "                state_index = self.discretise_state(state)\n",
        "\n",
        "                action = self.select_action(state, episode) # use epsiolon-greedy policy\n",
        "\n",
        "                next_state, reward, done, _, _ = self.env.step(action)\n",
        "                total_reward += reward\n",
        "                next_state = list(next_state)\n",
        "                next_state_index = self.discretise_state(next_state)\n",
        "\n",
        "                max_q_next = np.max(self.Q_table[next_state_index]) # find max Q-value for next state\n",
        "\n",
        "                target = reward + self.gamma * max_q_next * (not done) # calculate target for Q-value update\n",
        "\n",
        "                self.Q_table[state_index + (action,)] += self.alpha * (target - self.Q_table[state_index + (action,)]) # update Q-value\n",
        "\n",
        "                state = next_state\n",
        "\n",
        "            self.training_rewards.append(total_reward)\n",
        "\n",
        "    def test_agent(self, render=False):\n",
        "        self.testing_rewards = []\n",
        "\n",
        "        for _ in range(self.test_episodes):\n",
        "            state, info = self.env.reset()\n",
        "            total_reward = 0\n",
        "            done = False\n",
        "\n",
        "            while not done:\n",
        "                action = np.argmax(self.Q_table[self.discretise_state(state)]) # select action iwth max Q-value for current state\n",
        "\n",
        "                state, reward, done, _, _ = env.step(action)\n",
        "                total_reward += reward\n",
        "\n",
        "                if render:\n",
        "                    env.render()\n",
        "                    time.sleep(0.05)\n",
        "\n",
        "            self.testing_rewards.append(total_reward)\n",
        "\n",
        "        env.close()"
      ],
      "metadata": {
        "id": "KY0WYpgh8l2D"
      },
      "id": "KY0WYpgh8l2D",
      "execution_count": null,
      "outputs": []
    },
    {
      "cell_type": "code",
      "source": [
        "ql_agent = QLearningAgent(env, alpha, gamma, epsilon, train_episodes, test_episodes, bins, lower_bounds, upper_bounds)\n",
        "\n",
        "# training Phase\n",
        "ql_agent.train_agent()\n",
        "print(\"Train Results\")\n",
        "print(\"Average cumulative reward:\", np.mean(ql_agent.training_rewards))\n",
        "print(\"Is my agent good enough?\", np.mean(ql_agent.training_rewards) > 195)\n",
        "\n",
        "print(\"-----------------------------------------\")\n",
        "\n",
        "# testing Phase\n",
        "ql_agent.test_agent()\n",
        "print(\"Test Results\")\n",
        "print(\"Average cumulative reward:\", np.mean(ql_agent.testing_rewards))\n",
        "print(\"Is my agent good enough?\", np.mean(ql_agent.testing_rewards) > 195)\n",
        "\n",
        "plot_graph(ql_agent.testing_rewards, title=\"Q-learning Agent Performance\")"
      ],
      "metadata": {
        "id": "BqHySkvn9KbD",
        "colab": {
          "base_uri": "https://localhost:8080/",
          "height": 594
        },
        "outputId": "b957396e-58a9-4d74-ef47-51933a7bc329"
      },
      "id": "BqHySkvn9KbD",
      "execution_count": null,
      "outputs": [
        {
          "output_type": "stream",
          "name": "stdout",
          "text": [
            "Train Results\n",
            "Average cumulative reward: 26.901\n",
            "Is my agent good enough? False\n",
            "-----------------------------------------\n",
            "Test Results\n",
            "Average cumulative reward: 39.82\n",
            "Is my agent good enough? False\n"
          ]
        },
        {
          "output_type": "display_data",
          "data": {
            "text/plain": [
              "<Figure size 640x480 with 1 Axes>"
            ],
            "image/png": "[encoded data removed]"
          },
          "metadata": {}
        }
      ]
    },
    {
      "cell_type": "markdown",
      "source": [
        "While Q-learning agent performs slightly better than the random policy agent, it is still far from the baseline of 195, which suggests that the agent is not performing well enough in the Cartpole environment.\n",
        "\n",
        "Q-learning is not always ideal for environments like Cartpole, where the state and action spaces are continuous. It requires discretising  the space which can lead to inefficiencies and poor generalisation. Additionally, Q-learning relies heavily on a well-tuned exploration-exploitation balance and may struggle with sparse rewards, making it harder to converge to an optimal policy.\n",
        "\n",
        "To improve the performance, we would need to fine-tune parameters such as the learning rate, discount factor, exploration strategy and possibly switch to a more suitable method like deep Q-networks (DQN) for handling continuous action spaces."
      ],
      "metadata": {
        "id": "r4I1ImLT3meB"
      },
      "id": "r4I1ImLT3meB"
    },
    {
      "cell_type": "markdown",
      "id": "bf77e674-8f8d-4971-bfdd-d7f7434c8dff",
      "metadata": {
        "id": "bf77e674-8f8d-4971-bfdd-d7f7434c8dff"
      },
      "source": [
        "## Monte Carlo REINFORCE Agent"
      ]
    },
    {
      "cell_type": "markdown",
      "id": "af18b0d3-1da5-46df-8033-ebd48de7af79",
      "metadata": {
        "id": "af18b0d3-1da5-46df-8033-ebd48de7af79"
      },
      "source": [
        "### Introduction\n",
        "\n",
        "Monte Carlo REINFORCE follows a policy-based approach, where it learns by observing complete episodes of interaction with the environment.\n",
        "\n",
        "It updates its policy using the outcomes of actions chosen based on the current policy. This allows the agent to directly improve the policy it is using to make decisions, aligning the learning and exploration with the actions it actually takes.\n",
        "\n",
        "Unlike Q-learning, REINFORCE do not require discretising the state space, as it relies on sampling entire episodes to update the policy. This allows it to learn from real experiences without needing to represent all possible states explicitly."
      ]
    },
    {
      "cell_type": "markdown",
      "source": [
        "### Monte Carlo Control vs REINFORCE\n",
        "\n",
        "Monte Carlo Control (covered in lectures):\n",
        "\n",
        "focus on learning an optimal policy by estimating the action-value function for each state-action pair\n",
        "\n",
        "REINFORCE:\n",
        "\n",
        "focus on learning a general behaviour by estimating the gradients of the expected reward with respect to the policy parameters\n"
      ],
      "metadata": {
        "id": "AZooxHLtxPWy"
      },
      "id": "AZooxHLtxPWy"
    },
    {
      "cell_type": "markdown",
      "source": [
        "### Reason for choosing REINFORCE\n",
        "- Direct Policy Learning: REINFORCE directly adjusts the policy based on experience, making it well-suited for environments like CartPole with continuous action spaces, without the need to discretise actions\n",
        "\n",
        "- Less Complexity: Since our previous attempt with Q-learning did not perform well, REINFORCE offers a simpler method by directly optimising the policy with experience-based updates, avoiding the complexity of action-value approximation altogether"
      ],
      "metadata": {
        "id": "boJJjqOCz0Q-"
      },
      "id": "boJJjqOCz0Q-"
    },
    {
      "cell_type": "markdown",
      "id": "8451047a-8824-4b35-ba1b-e25525b1a036",
      "metadata": {
        "id": "8451047a-8824-4b35-ba1b-e25525b1a036"
      },
      "source": [
        "### Algorithm\n",
        "\n",
        "<img src=\"https://encrypted-tbn0.gstatic.com/images?q=tbn:ANd9GcS9hyvFuekvSfpdJJ81Pq1juVVDzVTF6_kwqA&s\" width=500>"
      ]
    },
    {
      "cell_type": "markdown",
      "source": [
        "The policy is implemented using a neural network with 2 layers. The first layer processes the input state while the second layer outputs probabilities for each possible action. The agent then select actions based on these possiblities."
      ],
      "metadata": {
        "id": "oAQEX3DCwIVl"
      },
      "id": "oAQEX3DCwIVl"
    },
    {
      "cell_type": "code",
      "execution_count": null,
      "id": "924a87f5-a37f-4210-a182-d0442c92c05a",
      "metadata": {
        "id": "924a87f5-a37f-4210-a182-d0442c92c05a"
      },
      "outputs": [],
      "source": [
        "class Policy(nn.Module):\n",
        "    def __init__(self, s_size, a_size, h_size, device):\n",
        "      super(Policy, self).__init__() # initialise network\n",
        "      self.fc1 = nn.Linear(s_size, h_size) # first fully connected layer\n",
        "      self.fc2 = nn.Linear(h_size, a_size) # second fully connected layer\n",
        "      self.to(device)  # move model to the correct device (CPU/GPU) for computation\n",
        "\n",
        "    def forward(self, x):\n",
        "      x = F.relu(self.fc1(x)) # apply first layer followed by ReLU activation function\n",
        "      x = self.fc2(x) # pass result through second connected layer\n",
        "      return F.log_softmax(x, dim=1)\n",
        "\n",
        "    def act(self, state):\n",
        "      state = np.array(state, dtype = np.float64)\n",
        "      state = torch.from_numpy(state).float().unsqueeze(0).to(device)  # convert state to tensor\n",
        "      log_probs = self.forward(state).cpu()  # get log probabilities from the policy network\n",
        "      m = Categorical(log_probs)  # create a categorical distribution over actions\n",
        "      action = m.sample()  # sample an action\n",
        "      return action.item(), m.log_prob(action)  # return action and log-probability"
      ]
    },
    {
      "cell_type": "code",
      "execution_count": null,
      "id": "e98f04e6-35ce-4e14-938c-f5b4e11dc7ad",
      "metadata": {
        "id": "e98f04e6-35ce-4e14-938c-f5b4e11dc7ad"
      },
      "outputs": [],
      "source": [
        "class MonteCarloAgent:\n",
        "    def __init__(self, policy, optimizer, env, gamma, train_episodes, test_episodes, max_t=1000):\n",
        "      self.policy = policy\n",
        "      self.optimizer = optimizer\n",
        "      self.env = env\n",
        "      self.gamma = gamma\n",
        "      self.train_episodes = train_episodes\n",
        "      self.test_episodes = test_episodes\n",
        "      self.max_t = max_t\n",
        "      self.training_rewards = []\n",
        "      self.testing_rewards = []\n",
        "\n",
        "    def select_action(self, state):\n",
        "      action, log_prob = self.policy.act(state)\n",
        "      return action, log_prob\n",
        "\n",
        "    def train_agent(self):\n",
        "      scores_deque = deque(maxlen=100) # stores scores of last 100 episodes for tracking\n",
        "      scores = []\n",
        "\n",
        "      for i_episode in range(1, self.train_episodes + 1):\n",
        "          saved_log_probs = []\n",
        "          rewards = []\n",
        "          state, info = self.env.reset()\n",
        "\n",
        "          for t in range(self.max_t):\n",
        "              action, log_prob = self.select_action(state) # select action based on current start using the policy\n",
        "              saved_log_probs.append(log_prob) # save log prob of selected action\n",
        "              state, reward, done, _, _ = self.env.step(action)\n",
        "              rewards.append(reward)\n",
        "\n",
        "              if done:\n",
        "                  break\n",
        "\n",
        "          scores_deque.append(sum(rewards))\n",
        "          scores.append(sum(rewards))\n",
        "\n",
        "          returns = deque(maxlen=len(rewards))\n",
        "          for t in range(len(rewards))[::-1]:\n",
        "              disc_return_t = returns[0] if len(returns) > 0 else 0 # calculate return at time step\n",
        "              returns.appendleft(self.gamma * disc_return_t + rewards[t])\n",
        "\n",
        "          returns = torch.tensor(returns) # standardise returns\n",
        "          eps = np.finfo(np.float32).eps.item()\n",
        "          returns = (returns - returns.mean()) / (returns.std() + eps)\n",
        "\n",
        "          policy_loss = []\n",
        "          for log_prob, disc_return in zip(saved_log_probs, returns):\n",
        "              policy_loss.append(-log_prob * disc_return) # compute policy loss\n",
        "          policy_loss = torch.cat(policy_loss).sum() # combine all losses\n",
        "\n",
        "          self.optimizer.zero_grad() # gradient update\n",
        "          policy_loss.backward() #backpropagate policy loss to compute gradients\n",
        "          self.optimizer.step() # update parameters\n",
        "\n",
        "          self.training_rewards.append(np.mean(scores_deque))\n",
        "\n",
        "    def test_agent(self):\n",
        "      self.policy.eval()\n",
        "      testing_rewards = []\n",
        "      for _ in range(self.test_episodes):\n",
        "          state, info = self.env.reset()\n",
        "          rewards = []\n",
        "          while True:\n",
        "              action, _ = self.select_action(state)\n",
        "              state, reward, done, _, _ = self.env.step(action)\n",
        "              rewards.append(reward)\n",
        "              if done:\n",
        "                  break\n",
        "          testing_rewards.append(sum(rewards))\n",
        "\n",
        "      self.testing_rewards = testing_rewards\n",
        "      self.policy.train()"
      ]
    },
    {
      "cell_type": "code",
      "source": [
        "# create device\n",
        "device = torch.device(\"cuda:0\" if torch.cuda.is_available() else \"cpu\")\n",
        "\n",
        "# create policy and place it to the device\n",
        "policy = Policy(state_space,action_space,h_size,device).to(device)\n",
        "\n",
        "optimizer = optim.Adam(policy.parameters(), lr=lr)"
      ],
      "metadata": {
        "id": "XTbjvmRN2G7f"
      },
      "id": "XTbjvmRN2G7f",
      "execution_count": null,
      "outputs": []
    },
    {
      "cell_type": "code",
      "source": [
        "# initialise agent\n",
        "mc_agent_0 = MonteCarloAgent(policy, optimizer, env, gamma, train_episodes, test_episodes)\n",
        "\n",
        "# get random initial state\n",
        "observation, info = env.reset()\n",
        "print(\"Observation:\", observation)\n",
        "\n",
        "# get chosen action\n",
        "action, _ = mc_agent_0.select_action(observation)\n",
        "print(\"Chosen action:\", action)"
      ],
      "metadata": {
        "id": "xyES1rtqhbnK",
        "colab": {
          "base_uri": "https://localhost:8080/"
        },
        "outputId": "e36b89f9-f26e-48f1-b769-dd4a44d03ec8"
      },
      "id": "xyES1rtqhbnK",
      "execution_count": null,
      "outputs": [
        {
          "output_type": "stream",
          "name": "stdout",
          "text": [
            "Observation: [ 0.02325357  0.0054467  -0.02680379 -0.01945451]\n",
            "Chosen action: 0\n"
          ]
        }
      ]
    },
    {
      "cell_type": "code",
      "execution_count": null,
      "id": "d7e30f38-de85-46fc-83da-941596d441bd",
      "metadata": {
        "id": "d7e30f38-de85-46fc-83da-941596d441bd",
        "colab": {
          "base_uri": "https://localhost:8080/",
          "height": 594
        },
        "outputId": "6d9772fa-aaed-4475-ac61-c2450d24d570"
      },
      "outputs": [
        {
          "output_type": "stream",
          "name": "stdout",
          "text": [
            "Train results\n",
            "Average cumulative reward: 497.58287616405687\n",
            "Is my agent good enough? True\n",
            "-----------------------------------------\n",
            "Test results\n",
            "Average cumulative reward: 7038.31\n",
            "Is my agent good enough? True\n"
          ]
        },
        {
          "output_type": "display_data",
          "data": {
            "text/plain": [
              "<Figure size 640x480 with 1 Axes>"
            ],
            "image/png": "[encoded data removed]"
          },
          "metadata": {}
        }
      ],
      "source": [
        "# training phase\n",
        "mc_agent = MonteCarloAgent(policy, optimizer, env, gamma, train_episodes, test_episodes)\n",
        "mc_agent.train_agent()\n",
        "print(\"Train results\")\n",
        "print(\"Average cumulative reward:\", np.mean(mc_agent.training_rewards))\n",
        "print(\"Is my agent good enough?\", np.mean(mc_agent.training_rewards) > 195)\n",
        "print(\"-----------------------------------------\")\n",
        "\n",
        "# testing phase\n",
        "mc_agent.test_agent()\n",
        "print(\"Test results\")\n",
        "print(\"Average cumulative reward:\", np.mean(mc_agent.testing_rewards))\n",
        "print(\"Is my agent good enough?\", np.mean(mc_agent.testing_rewards) > 195)\n",
        "plot_graph(mc_agent.testing_rewards, title=\"Monte Carlo Agent Performance\")"
      ]
    },
    {
      "cell_type": "markdown",
      "source": [
        "Based on the train and test results, REINFORCE agent outperforms the Q-learning agent due to its direct policy learning approach, which is better suited for the continuous state-action space in Cartpole.\n",
        "\n",
        "Although the REINFORCE agent is already performing very well, it could still be further optimised by experimenting with different network architectures such as deeper networks or adding more layers to capture more complex patterns in the environment. Additionally, tuning the learning rate, similar to what can be done for Q-learning, could also improve the agent's performance and convergence speed."
      ],
      "metadata": {
        "id": "srnoF8C-608m"
      },
      "id": "srnoF8C-608m"
    },
    {
      "cell_type": "code",
      "source": [
        "env = RecordVideo(gym.make(\"CartPole-v1\", render_mode=\"rgb_array\"), \"./video\")\n",
        "observation, info = env.reset()\n",
        "\n",
        "while True:\n",
        "    env.render()\n",
        "    action, _ = mc_agent.select_action(observation)\n",
        "    state, reward, done, _, _ = env.step(action)\n",
        "\n",
        "    if done:\n",
        "      break;\n",
        "\n",
        "env.close()\n",
        "show_video()"
      ],
      "metadata": {
        "id": "CXNKce16h-Fp",
        "colab": {
          "base_uri": "https://localhost:8080/",
          "height": 421
        },
        "outputId": "1509c111-6851-45f6-8901-c363c629e3ee"
      },
      "id": "CXNKce16h-Fp",
      "execution_count": null,
      "outputs": [
        {
          "output_type": "display_data",
          "data": {
            "text/plain": [
              "<IPython.core.display.HTML object>"
            ],
            "text/html": [
              "\n",
              "            <video alt=\"test\" autoplay loop controls style=\"height: 400px;\">\n",
              "                <source src=\"data:video/mp4;base64,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\" type=\"video/mp4\" />\n",
              "            </video>\n",
              "        "
            ]
          },
          "metadata": {}
        }
      ]
    },
    {
      "cell_type": "markdown",
      "id": "20c91554-2988-4c73-8281-1728f88a36eb",
      "metadata": {
        "id": "20c91554-2988-4c73-8281-1728f88a36eb"
      },
      "source": [
        "## Overview of Agents"
      ]
    },
    {
      "cell_type": "markdown",
      "id": "13f90b2e-88ff-4024-a6a9-61f2b96d1b12",
      "metadata": {
        "id": "13f90b2e-88ff-4024-a6a9-61f2b96d1b12"
      },
      "source": [
        "<table border=\"1\">\n",
        "  <thead>\n",
        "    <tr>\n",
        "      <th>Feature</th>\n",
        "      <th>Monte Carlo REINFORCE</th>\n",
        "      <th>Q-Learning</th>\n",
        "    </tr>\n",
        "  </thead>\n",
        "  <tbody>\n",
        "    <tr>\n",
        "      <td>On/Off Policy</td>\n",
        "      <td>On-Policy</td>\n",
        "      <td>Off-Policy</td>\n",
        "    </tr>\n",
        "    <tr>\n",
        "      <td>Type</td>\n",
        "      <td>Policy-Based</td>\n",
        "      <td>Value-Based</td>\n",
        "    </tr>\n",
        "    <tr>\n",
        "      <td>Updates</td>\n",
        "      <td>After entire episode</td>\n",
        "      <td>After each step</td>\n",
        "    </tr>\n",
        "    <tr>\n",
        "      <td>Exploration</td>\n",
        "      <td>policies</td>\n",
        "      <td>ε-greedy exploration</td>\n",
        "    </tr>\n",
        "    <tr>\n",
        "      <td>State Space</td>\n",
        "      <td>Can handle continuous states</td>\n",
        "      <td>Needs discretization or function approximation for continuous state</td>\n",
        "    </tr>\n",
        "    <tr>\n",
        "      <td>Action Space</td>\n",
        "      <td>Can handle continuous actions</td>\n",
        "      <td>Discrete (or function approximation)</td>\n",
        "    </tr>\n",
        "    <tr>\n",
        "      <td>Policy Representation</td>\n",
        "      <td>Direct parameterized policy (e.g., neural network)</td>\n",
        "      <td>Greedy policy derived from Q-values</td>\n",
        "    </tr>\n",
        "    <tr>\n",
        "      <td>Policy Evaluation</td>\n",
        "      <td>Direct Policy Update via Policy Gradient</td>\n",
        "      <td>Value Function Estimation <br>Q(s,a)</td>\n",
        "    </tr>\n",
        "  </tbody>\n",
        "</table>\n"
      ]
    },
    {
      "cell_type": "markdown",
      "id": "563834fb-cc3d-40c6-a6b7-563b2ccc752a",
      "metadata": {
        "id": "563834fb-cc3d-40c6-a6b7-563b2ccc752a"
      },
      "source": [
        "## Conclusion"
      ]
    },
    {
      "cell_type": "markdown",
      "id": "cd513aeb-3614-48c4-82b9-52116f17352a",
      "metadata": {
        "id": "cd513aeb-3614-48c4-82b9-52116f17352a"
      },
      "source": [
        "In conclusion, both Q-Learning and Monte Carlo REINFORCE are powerful reinforcement learning techniques, each suited for different types of problems. Monte Carlo is effective for learning in episodic environments where the entire episode is required before making updates, whereas Q-Learning excels in environments where real-time updates are necessary, particularly with discrete action spaces."
      ]
    }
  ],
  "metadata": {
    "kernelspec": {
      "display_name": "Python 3 (ipykernel)",
      "language": "python",
      "name": "python3"
    },
    "language_info": {
      "codemirror_mode": {
        "name": "ipython",
        "version": 3
      },
      "file_extension": ".py",
      "mimetype": "text/x-python",
      "name": "python",
      "nbconvert_exporter": "python",
      "pygments_lexer": "ipython3",
      "version": "3.12.7"
    },
    "colab": {
      "provenance": [],
      "include_colab_link": true
    }
  },
  "nbformat": 4,
  "nbformat_minor": 5
}